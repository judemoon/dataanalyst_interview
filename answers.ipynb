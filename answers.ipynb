{
 "cells": [
  {
   "cell_type": "markdown",
   "metadata": {},
   "source": [
    "# Interview Practice for Data Analyst Job \n",
    "\n",
    "July-August 2017, by Jude Moon\n",
    "\n",
    "## Practice Overview\n",
    "Employers use interviews to judge your readiness and fit for the job, which includes hearing about your skills and interest in the role. The interview is not a test or exam, but a conversation between you and the employer. Build your own strategies to be prepared come interview day. This project is one of many ways for you to practice!\n",
    "\n",
    "----\n",
    "### 1. Describe a data project you worked on recently.\n",
    "\n",
    "----\n",
    "### 2. You are given a ten piece box of chocolate truffles. You know based on the label that six of the pieces have an orange cream filling and four of the pieces have a coconut filling. If you were to eat four pieces in a row, what is the probability that the first two pieces you eat have an orange cream filling and the last two have a coconut filling?\n",
    "\n",
    "* Probability of 1st and 2nd choices to be orange: $\\frac{6}{10} * \\frac{5}{9}$\n",
    "* Probability of 3rd and 4th choice to be coconut: $\\frac{4}{8} * \\frac{3}{7}$\n",
    "* Probability of 1st and 2nd choices to be orange and 3rd and 4th choice to be coconut: $\\frac{6}{10} * \\frac{5}{9} * \\frac{4}{8} * \\frac{3}{7} = 0.0714$\n",
    "\n",
    "\n",
    "### Follow up question: If you were given an identical box of chocolates and again eat four pieces in a row, what is the probability that exactly two contain coconut filling?\n",
    "\n",
    "* Number of cases to be orange or coconut for 4 pieces: $2 * 2 * 2 * 2 = 16$\n",
    "* Number of combinations to be two coconut and two orange: $(4-1) + (4-2) + (4-3) = 6$\n",
    "* Probability of combinations to be two coconut and two orange: $\\frac{6}{16} =0.375$\n",
    "\n",
    "----\n",
    "### 3. Given the table users:\n",
    "\n",
    "<center>Table \"users\"</center>\n",
    "\n",
    "| Column   | Type      |\n",
    "|----------|-----------|\n",
    "| id       | integer   |\n",
    "| username | character |\n",
    "| email    | character |\n",
    "| city     | character |\n",
    "| state    | character |\n",
    "| zip      | integer   |\n",
    "| active   | boolean   |\n",
    "\n",
    "### Construct a query to find the top 5 states with the highest number of active users. Include the number for each state in the query result.\n",
    "\n",
    "\n",
    "    SELECT state, SUM(active)\n",
    "    from users\n",
    "    GROUP BY state\n",
    "    ORDER BY SUM(active) DESC\n",
    "    LIMIT 5\n",
    "\n",
    "\n",
    "----\n",
    "### 4. Define a function first_unique that takes a string as input and returns the first non-repeated (unique) character in the input string. If there are no unique characters return None. Note: Your code should be in Python.\n",
    "\n",
    "```\n",
    "def first_unique(string):\n",
    " # Your code here\n",
    " return unique_char\n",
    "\n",
    "> first_unique('aabbcdd123')\n",
    "> c\n",
    "\n",
    "> first_unique('a')\n",
    "> a\n",
    "\n",
    "> first_unique('112233')\n",
    "> None\n",
    "\n",
    "```"
   ]
  },
  {
   "cell_type": "code",
   "execution_count": 21,
   "metadata": {
    "collapsed": true
   },
   "outputs": [],
   "source": [
    "from collections import defaultdict\n",
    "\n",
    "def first_unique(word):\n",
    "    \n",
    "    counts = defaultdict(int) # initiate defaultdict for count \n",
    "    \n",
    "    for c in word:\n",
    "        counts[c] += 1 # add c as a key and number as a value to dictionary\n",
    "      \n",
    "    for c in counts:\n",
    "        if counts[c] == 1: # if value is 1, return the result\n",
    "            return c\n",
    "    \n",
    "    return \"None\""
   ]
  },
  {
   "cell_type": "code",
   "execution_count": 15,
   "metadata": {
    "collapsed": false
   },
   "outputs": [
    {
     "data": {
      "text/plain": [
       "'c'"
      ]
     },
     "execution_count": 15,
     "metadata": {},
     "output_type": "execute_result"
    }
   ],
   "source": [
    "first_unique('aabbcdd123')"
   ]
  },
  {
   "cell_type": "code",
   "execution_count": 16,
   "metadata": {
    "collapsed": false
   },
   "outputs": [
    {
     "data": {
      "text/plain": [
       "'a'"
      ]
     },
     "execution_count": 16,
     "metadata": {},
     "output_type": "execute_result"
    }
   ],
   "source": [
    "first_unique('a')"
   ]
  },
  {
   "cell_type": "code",
   "execution_count": 22,
   "metadata": {
    "collapsed": false
   },
   "outputs": [
    {
     "data": {
      "text/plain": [
       "'None'"
      ]
     },
     "execution_count": 22,
     "metadata": {},
     "output_type": "execute_result"
    }
   ],
   "source": [
    "first_unique('112233')"
   ]
  },
  {
   "cell_type": "markdown",
   "metadata": {},
   "source": [
    "### 5. What are underfitting and overfitting in the context of Machine Learning? How might you balance them?\n",
    "\n",
    "\n",
    "\n",
    "### 6. If you were to start your data analyst position today, what would be your goals a year from now?"
   ]
  }
 ],
 "metadata": {
  "kernelspec": {
   "display_name": "Python [Root]",
   "language": "python",
   "name": "Python [Root]"
  },
  "language_info": {
   "codemirror_mode": {
    "name": "ipython",
    "version": 2
   },
   "file_extension": ".py",
   "mimetype": "text/x-python",
   "name": "python",
   "nbconvert_exporter": "python",
   "pygments_lexer": "ipython2",
   "version": "2.7.12"
  }
 },
 "nbformat": 4,
 "nbformat_minor": 0
}
